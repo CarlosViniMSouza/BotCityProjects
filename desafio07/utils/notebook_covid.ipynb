{
  "cells": [
    {
      "cell_type": "markdown",
      "metadata": {
        "id": "X7qTTtwnmpGb"
      },
      "source": [
        "**Objetivo:** Desenvolver um script em Python que automatize o processo de download de dados sobre COVID-19 a partir de um site específico, salve os dados em um arquivo local e gere um gráfico a partir desses dados. O desafio envolve acessar um site confiável de estatísticas sobre COVID-19, baixar os dados mais recentes, processá-los e visualizar as informações por meio de um gráfico. No final gere um relatório em excel.\n",
        "\n",
        "- https://covid.ourworldindata.org\n",
        "\n",
        "**Instruções:**\n",
        "\n",
        "1. **Criação do Ambiente de Desenvolvimento:**\n",
        "    - Crie um ambiente virtual (venv) para o projeto.\n",
        "    - Instale as bibliotecas necessárias para automação, download de arquivos e visualização de dados.\n",
        "2. **Automatização do Download de Dados:**\n",
        "    - Utilize Python para acessar um site de estatísticas sobre COVID-19 e baixar os dados mais recentes (por exemplo, em formato CSV).\n",
        "3. **Processamento e Visualização dos Dados:**\n",
        "    - Leia o arquivo baixado, processe os dados relevantes e crie um gráfico que mostre, por exemplo, a evolução diária de casos ou mortes.\n",
        "4. **Execução e Testes:**\n",
        "    - Execute o script para garantir que os dados são baixados corretamente e que o gráfico é gerado com precisão.\n",
        "\n",
        "### **Instrução:**\n",
        "\n",
        "- Configure e execute o script para garantir que os dados COVID-19 são baixados corretamente e que o gráfico é gerado com precisão.\n",
        "- Experimente filtrar os dados para diferentes países ou regiões e criar gráficos adicionais para análise comparativa.\n",
        "- Teste o script com diferentes intervalos de tempo e variáveis (como novos casos, novas mortes, vacinação, etc)."
      ]
    },
    {
      "cell_type": "markdown",
      "metadata": {
        "id": "ZYKMAUbkZ8bj"
      },
      "source": [
        "## Montando a Análise dos Dados.\n",
        "\n",
        "Essa etapa é de suma importância para que o analista/pesquisador possa dimensionar e projetar os dados obtidos/coletados para o mundo real, visando facilitar a interpretação dos mesmos, e auxiliar as partes interessadas na tomada de decisão.\n",
        "\n",
        "E para alcançar tal objetivo, precisamos seguir algumas etapas:\n",
        "\n",
        "1. Amostragem\n",
        "2. Tratamento\n",
        "3. Uso dos Métodos Estatísticos\n",
        "4. Testes de Hipótese"
      ]
    },
    {
      "cell_type": "markdown",
      "metadata": {
        "id": "67WvYanxaqsc"
      },
      "source": [
        "## Amostragem"
      ]
    },
    {
      "cell_type": "code",
      "execution_count": 1,
      "metadata": {
        "id": "9fK5KjN6R2-V"
      },
      "outputs": [
        {
          "ename": "ModuleNotFoundError",
          "evalue": "No module named 'pandas'",
          "output_type": "error",
          "traceback": [
            "\u001b[1;31m---------------------------------------------------------------------------\u001b[0m",
            "\u001b[1;31mModuleNotFoundError\u001b[0m                       Traceback (most recent call last)",
            "Cell \u001b[1;32mIn[1], line 1\u001b[0m\n\u001b[1;32m----> 1\u001b[0m \u001b[38;5;28;01mimport\u001b[39;00m \u001b[38;5;21;01mpandas\u001b[39;00m \u001b[38;5;28;01mas\u001b[39;00m \u001b[38;5;21;01mpd\u001b[39;00m\n\u001b[0;32m      2\u001b[0m \u001b[38;5;28;01mimport\u001b[39;00m \u001b[38;5;21;01mnumpy\u001b[39;00m \u001b[38;5;28;01mas\u001b[39;00m \u001b[38;5;21;01mnp\u001b[39;00m\n\u001b[0;32m      4\u001b[0m \u001b[38;5;28;01mimport\u001b[39;00m \u001b[38;5;21;01mplotly\u001b[39;00m\u001b[38;5;21;01m.\u001b[39;00m\u001b[38;5;21;01mexpress\u001b[39;00m \u001b[38;5;28;01mas\u001b[39;00m \u001b[38;5;21;01mpx\u001b[39;00m\n",
            "\u001b[1;31mModuleNotFoundError\u001b[0m: No module named 'pandas'"
          ]
        }
      ],
      "source": [
        "import pandas as pd\n",
        "import numpy as np\n",
        "\n",
        "import plotly.express as px\n",
        "import plotly.figure_factory as ff\n",
        "\n",
        "import matplotlib.pyplot as plt\n",
        "import seaborn as sns"
      ]
    },
    {
      "cell_type": "code",
      "execution_count": 3,
      "metadata": {
        "id": "NkODbpQ7RqiJ"
      },
      "outputs": [],
      "source": [
        "CSV_URL = \"https://catalog.ourworldindata.org/garden/covid/latest/compact/compact.csv\"\n",
        "\n",
        "dataset = pd.read_csv(CSV_URL, sep=\",\")"
      ]
    },
    {
      "cell_type": "code",
      "execution_count": 4,
      "metadata": {
        "id": "WsGvMN1mZEQ9"
      },
      "outputs": [],
      "source": [
        "dataset.to_csv(\n",
        "    r\"C:\\Users\\matutino\\Documents\\projects\\BotCity\\desafio05\\assets\\dataset.csv\"\n",
        ")  # salvar o CSV baixado"
      ]
    },
    {
      "cell_type": "code",
      "execution_count": 5,
      "metadata": {
        "id": "meyWkwXxXJ4J"
      },
      "outputs": [],
      "source": [
        "sample = dataset.sample(frac=0.1, replace=True, random_state=1)\n",
        "\n",
        "sample.to_csv(\n",
        "    r\"C:\\Users\\matutino\\Documents\\projects\\BotCity\\desafio05\\assets\\sample.csv\"\n",
        ")  # salvar o CSV baixado"
      ]
    },
    {
      "cell_type": "code",
      "execution_count": 6,
      "metadata": {
        "id": "tcga7NcxXqqU"
      },
      "outputs": [],
      "source": [
        "# substituir valores nulos\n",
        "dataset.replace(np.nan, 0, inplace=True)\n",
        "sample.replace(np.nan, 0, inplace=True)"
      ]
    },
    {
      "cell_type": "code",
      "execution_count": null,
      "metadata": {
        "colab": {
          "base_uri": "https://localhost:8080/"
        },
        "id": "5wqMTjCTSPU8",
        "outputId": "eea0ada0-a290-47aa-ffb0-545389be7b94"
      },
      "outputs": [],
      "source": [
        "dataset.info()"
      ]
    },
    {
      "cell_type": "code",
      "execution_count": null,
      "metadata": {
        "colab": {
          "base_uri": "https://localhost:8080/",
          "height": 349
        },
        "id": "QddWcVeSTqwS",
        "outputId": "7c0f7fcc-b5be-4678-d8b6-5c3f2736697d"
      },
      "outputs": [],
      "source": [
        "dataset.describe()"
      ]
    },
    {
      "cell_type": "code",
      "execution_count": 9,
      "metadata": {
        "id": "XTPz-6mOPwcH"
      },
      "outputs": [],
      "source": [
        "# selecionando amostras vindas do Brasil, Argentina e Chile\n",
        "sample_brazil = sample[sample['country'] == 'Brazil']\n",
        "sample_argen = sample[sample['country'] == 'Argentina']\n",
        "sample_chile = sample[sample['country'] == 'Chile']"
      ]
    },
    {
      "cell_type": "code",
      "execution_count": null,
      "metadata": {
        "colab": {
          "base_uri": "https://localhost:8080/",
          "height": 342
        },
        "id": "wN-4z3NqbZpa",
        "outputId": "9e8b6c9c-c432-47e5-e0fa-78e0aa686eb7"
      },
      "outputs": [],
      "source": [
        "sample_brazil.head(5)"
      ]
    },
    {
      "cell_type": "code",
      "execution_count": null,
      "metadata": {
        "colab": {
          "base_uri": "https://localhost:8080/",
          "height": 342
        },
        "id": "KASkRubTbaak",
        "outputId": "1fb77416-8332-4610-bcf6-5f156f0dff9e"
      },
      "outputs": [],
      "source": [
        "sample_argen.head(5)"
      ]
    },
    {
      "cell_type": "code",
      "execution_count": null,
      "metadata": {
        "colab": {
          "base_uri": "https://localhost:8080/",
          "height": 342
        },
        "id": "TTRY5Ze9beH1",
        "outputId": "618e883b-6eb4-4f7d-8295-31f4416cdf2c"
      },
      "outputs": [],
      "source": [
        "sample_chile.head(5)"
      ]
    },
    {
      "cell_type": "code",
      "execution_count": null,
      "metadata": {
        "colab": {
          "base_uri": "https://localhost:8080/",
          "height": 585
        },
        "id": "5KRoC63vjbSw",
        "outputId": "945fb1f2-831a-448c-9602-b1b8def00fa9"
      },
      "outputs": [],
      "source": [
        "# Unindo as 3 amostras em 1\n",
        "\n",
        "frames = [sample_brazil, sample_argen, sample_chile]\n",
        "sampleMerged= pd.concat(frames)\n",
        "sampleMerged.head(10)"
      ]
    },
    {
      "cell_type": "code",
      "execution_count": null,
      "metadata": {
        "colab": {
          "base_uri": "https://localhost:8080/",
          "height": 237
        },
        "id": "6JZGX5DoU1N1",
        "outputId": "2429cc4b-2011-4bcc-b0b2-584a8492c0c2"
      },
      "outputs": [],
      "source": [
        "# buscando infos estatisticas do Brasil\n",
        "\n",
        "infos_total_cases = [\n",
        "  sample_brazil['total_cases'].mean(),\n",
        "  sample_brazil['total_cases'].mode().iat[0],\n",
        "  sample_brazil['total_cases'].median(),\n",
        "  sample_brazil['total_cases'].max() - sample_brazil['total_cases'].min(),\n",
        "  sample_brazil['total_cases'].var(),\n",
        "  sample_brazil['total_cases'].std()\n",
        "]\n",
        "\n",
        "infos_new_cases = [\n",
        "  sample_brazil['new_cases'].mean(),\n",
        "  sample_brazil['new_cases'].mode().iat[0],\n",
        "  sample_brazil['new_cases'].median(),\n",
        "  sample_brazil['new_cases'].max() - sample_brazil['new_cases'].min(),\n",
        "  sample_brazil['new_cases'].var(),\n",
        "  sample_brazil['new_cases'].std()\n",
        "]\n",
        "\n",
        "sample_brazil['new_cases_smoothed_per_million'] = pd.to_numeric(sample_brazil['new_cases_smoothed_per_million'], errors='coerce')\n",
        "\n",
        "infos_new_cases_smoothed = [\n",
        "  sample_brazil['new_cases_smoothed_per_million'].mean(),\n",
        "  sample_brazil['new_cases_smoothed_per_million'].mode().iat[0],\n",
        "  sample_brazil['new_cases_smoothed_per_million'].median(),\n",
        "  sample_brazil['new_cases_smoothed_per_million'].max() - sample_brazil['new_cases_smoothed_per_million'].min(),\n",
        "  sample_brazil['new_cases_smoothed_per_million'].var(),\n",
        "  sample_brazil['new_cases_smoothed_per_million'].std()\n",
        "]\n",
        "\n",
        "infos_new_deaths = [\n",
        "  sample_brazil['new_deaths'].mean(),\n",
        "  sample_brazil['new_deaths'].mode().iat[0],\n",
        "  sample_brazil['new_deaths'].median(),\n",
        "  sample_brazil['new_deaths'].max() - sample_brazil['new_deaths'].min(),\n",
        "  sample_brazil['new_deaths'].var(),\n",
        "  sample_brazil['new_deaths'].std()\n",
        "]\n",
        "\n",
        "infos_total_deaths = [\n",
        "  sample_brazil['total_deaths'].mean(),\n",
        "  sample_brazil['total_deaths'].mode().iat[0],\n",
        "  sample_brazil['total_deaths'].median(),\n",
        "  sample_brazil['total_deaths'].max() - sample_brazil['total_deaths'].min(),\n",
        "  sample_brazil['total_deaths'].var(),\n",
        "  sample_brazil['total_deaths'].std()\n",
        "]\n",
        "\n",
        "sample_brazil['new_deaths_smoothed_per_million'] = pd.to_numeric(sample_brazil['new_deaths_smoothed_per_million'], errors='coerce')\n",
        "\n",
        "infos_total_deaths_smoothed = [\n",
        "  sample_brazil['new_deaths_smoothed_per_million'].mean(),\n",
        "  sample_brazil['new_deaths_smoothed_per_million'].mode().iat[0],\n",
        "  sample_brazil['new_deaths_smoothed_per_million'].median(),\n",
        "  sample_brazil['new_deaths_smoothed_per_million'].max() - sample_brazil['new_deaths_smoothed_per_million'].min(),\n",
        "  sample_brazil['new_deaths_smoothed_per_million'].var(),\n",
        "  sample_brazil['new_deaths_smoothed_per_million'].std()\n",
        "]\n",
        "\n",
        "# Mesclar informações em um Dataframe\n",
        "dictInfos = {\n",
        "  'Colunas': ['Total de Casos', 'Novos Casos', 'Novos Casos Suavizados', 'Obitos Recentes', 'Total de Obitos', 'Total de Obitos Suavizados'],\n",
        "  'Media': [infos_total_cases[0], infos_new_cases[0], infos_new_cases_smoothed[0], infos_new_deaths[0], infos_total_deaths[0], infos_total_deaths_smoothed[0]],\n",
        "  'Moda': [infos_total_cases[1], infos_new_cases[1], infos_new_cases_smoothed[1], infos_new_deaths[1], infos_total_deaths[1], infos_total_deaths_smoothed[1]],\n",
        "  'Mediana': [infos_total_cases[2], infos_new_cases[2], infos_new_cases_smoothed[2], infos_new_deaths[2], infos_total_deaths[2], infos_total_deaths_smoothed[2]],\n",
        "  'Amplitude': [infos_total_cases[3], infos_new_cases[3], infos_new_cases_smoothed[3], infos_new_deaths[3], infos_total_deaths[3], infos_total_deaths_smoothed[3]],\n",
        "  'Variância': [infos_total_cases[4], infos_new_cases[4], infos_new_cases_smoothed[4], infos_new_deaths[4], infos_total_deaths[4], infos_total_deaths_smoothed[4]],\n",
        "  'Desvio-Padrão': [infos_total_cases[5], infos_new_cases[5], infos_new_cases_smoothed[5], infos_new_deaths[5], infos_total_deaths[5], infos_total_deaths_smoothed[5]],\n",
        "}\n",
        "\n",
        "df_infos_brazil = pd.DataFrame(dictInfos)\n",
        "\n",
        "df_infos_brazil"
      ]
    },
    {
      "cell_type": "code",
      "execution_count": null,
      "metadata": {
        "colab": {
          "base_uri": "https://localhost:8080/",
          "height": 1000
        },
        "id": "a73vMGR9YbkM",
        "outputId": "b1bfa1f7-f0c3-4d85-c750-5330cbcd2ad7"
      },
      "outputs": [],
      "source": [
        "# vendo a correlação das colunas númericas da amostra do Brasil\n",
        "sample_brazil_corr = sample_brazil.drop(\n",
        "  columns=['code', 'continent', 'country', 'date']\n",
        ")\n",
        "\n",
        "sample_brazil_corr.corr()"
      ]
    },
    {
      "cell_type": "code",
      "execution_count": null,
      "metadata": {
        "colab": {
          "base_uri": "https://localhost:8080/",
          "height": 723
        },
        "id": "PyYnOZqHZany",
        "outputId": "3061e39d-838c-481d-cf7e-3da5dd778487"
      },
      "outputs": [],
      "source": [
        "sns.heatmap(sample_brazil_corr.corr()) # correlação em Mapa de Calor"
      ]
    },
    {
      "cell_type": "code",
      "execution_count": null,
      "metadata": {
        "colab": {
          "base_uri": "https://localhost:8080/",
          "height": 542
        },
        "id": "LLDCLjdQa4z6",
        "outputId": "08578d85-253a-48f6-8fe2-a64e7b2a4556"
      },
      "outputs": [],
      "source": [
        "# Plotando os dados no tempo\n",
        "fig = px.histogram(\n",
        "  sample_brazil,\n",
        "  title='Quantidade de Novos Casos de Covid-19 (Brasil)',\n",
        "  labels={'date': 'Meses de 2020 a 2023', 'new_cases': 'Novos Casos'},\n",
        "  x=\"date\",\n",
        "  y=\"new_cases\"\n",
        ")\n",
        "\n",
        "fig.update_layout(bargap=0.1)\n",
        "fig.show()"
      ]
    },
    {
      "cell_type": "code",
      "execution_count": null,
      "metadata": {
        "colab": {
          "base_uri": "https://localhost:8080/",
          "height": 542
        },
        "id": "GkDDlwTQcT-J",
        "outputId": "d3ba7e85-8c06-4af4-a98b-f4c04b079c88"
      },
      "outputs": [],
      "source": [
        "# Plotando os dados no tempo\n",
        "\n",
        "fig = px.histogram(\n",
        "  sample_argen,\n",
        "  title='Quantidade de Novos Casos de Covid-19 (Argentina)',\n",
        "  labels={'date': 'Meses de 2020 a 2023', 'new_cases': 'Novos Casos'},\n",
        "  x=\"date\",\n",
        "  y=\"new_cases\"\n",
        ")\n",
        "\n",
        "fig.update_layout(bargap=0.1)\n",
        "fig.show()"
      ]
    },
    {
      "cell_type": "code",
      "execution_count": null,
      "metadata": {
        "colab": {
          "base_uri": "https://localhost:8080/",
          "height": 542
        },
        "id": "SunWsbI8cfS_",
        "outputId": "ee9586a8-7c3c-414c-db9d-b5d08b069f36"
      },
      "outputs": [],
      "source": [
        "# Plotando os dados no tempo\n",
        "\n",
        "fig = px.histogram(\n",
        "  sample_chile,\n",
        "  title='Quantidade de Novos Casos de Covid-19 (Chile)',\n",
        "  labels={'date': 'Meses de 2020 a 2023', 'new_cases': 'Novos Casos'},\n",
        "  x=\"date\",\n",
        "  y=\"new_cases\"\n",
        ")\n",
        "\n",
        "fig.update_layout(bargap=0.1)\n",
        "fig.show()"
      ]
    },
    {
      "cell_type": "code",
      "execution_count": null,
      "metadata": {
        "colab": {
          "base_uri": "https://localhost:8080/",
          "height": 475
        },
        "id": "WA4X1CLEfBXY",
        "outputId": "41f3c754-aa59-4f05-a8cd-bf574ea908b4"
      },
      "outputs": [],
      "source": [
        "# Comparando os Novos Casos das amostras de Brasil, Argentina e Chile\n",
        "\n",
        "sns.set_theme(style=\"darkgrid\")\n",
        "\n",
        "sns.lineplot(\n",
        "  x=\"date\",\n",
        "  y=\"new_cases\",\n",
        "  hue=\"country\",\n",
        "  data=sampleMerged\n",
        ")"
      ]
    }
  ],
  "metadata": {
    "colab": {
      "provenance": []
    },
    "kernelspec": {
      "display_name": "Python 3",
      "name": "python3"
    },
    "language_info": {
      "codemirror_mode": {
        "name": "ipython",
        "version": 3
      },
      "file_extension": ".py",
      "mimetype": "text/x-python",
      "name": "python",
      "nbconvert_exporter": "python",
      "pygments_lexer": "ipython3",
      "version": "3.12.4"
    }
  },
  "nbformat": 4,
  "nbformat_minor": 0
}
